{
 "metadata": {
  "language_info": {
   "codemirror_mode": {
    "name": "ipython",
    "version": 3
   },
   "file_extension": ".py",
   "mimetype": "text/x-python",
   "name": "python",
   "nbconvert_exporter": "python",
   "pygments_lexer": "ipython3",
   "version": "3.8.5-final"
  },
  "orig_nbformat": 2,
  "kernelspec": {
   "name": "python3",
   "display_name": "Python 3.8.5 64-bit ('py38': conda)",
   "metadata": {
    "interpreter": {
     "hash": "66fceec00b03fbdb5ef2a284dfadb349cc7d61aad9edaf80a7d6a7b66dad8370"
    }
   }
  }
 },
 "nbformat": 4,
 "nbformat_minor": 2,
 "cells": [
  {
   "cell_type": "code",
   "execution_count": 1,
   "metadata": {},
   "outputs": [],
   "source": [
    "from pixabay import Image, Video"
   ]
  },
  {
   "cell_type": "code",
   "execution_count": 5,
   "metadata": {},
   "outputs": [
    {
     "output_type": "stream",
     "name": "stdout",
     "text": [
      "{\n  \"total\": 289,\n  \"totalHits\": 289,\n  \"hits\": [\n    {\n      \"id\": 5883275,\n      \"pageURL\": \"https://pixabay.com/es/photos/perro-gato-mascotas-domesticado-5883275/\",\n      \"type\": \"photo\",\n      \"tags\": \"perro, gato, mascotas\",\n      \"previewURL\": \"https://cdn.pixabay.com/photo/2021/01/02/23/55/dog-5883275_150.jpg\",\n      \"previewWidth\": 150,\n      \"previewHeight\": 100,\n      \"webformatURL\": \"https://pixabay.com/get/g5966695682f681b01b82599dd01d6d0ed8f3d01da018ac19aa3c5778263b42c86f1b3b8c451651ec5775307be62d3bc5e37c2a380041ad4ba9d3906da25cab78_640.jpg\",\n      \"webformatWidth\": 640,\n      \"webformatHeight\": 427,\n      \"largeImageURL\": \"https://pixabay.com/get/gf81f76a6be109bceefb500bcc30aa561b3ee3cfc342f6a897d6ba2c410275208b0b3452e5f31d47c24fd23334e20c6e8bfaaf0408e4aabe026699ff9a3978cf2_1280.jpg\",\n      \"imageWidth\": 4458,\n      \"imageHeight\": 2972,\n      \"imageSize\": 3545934,\n      \"views\": 16766,\n      \"downloads\": 13374,\n      \"favorites\": 50,\n      \"likes\": 62,\n      \"comments\": 11,\n      \"user_id\": 16241500,\n      \"user\": \"vaclavzavada\",\n      \"userImageURL\": \"https://cdn.pixabay.com/user/2020/04/28/16-40-17-588_250x250.jpg\"\n    },\n    {\n      \"id\": 5709765,\n      \"pageURL\": \"https://pixabay.com/es/photos/gato-perro-cachorro-gatito-pareja-5709765/\",\n      \"type\": \"photo\",\n      \"tags\": \"gato, perro, cachorro\",\n      \"previewURL\": \"https://cdn.pixabay.com/photo/2020/11/03/13/04/cat-5709765_150.jpg\",\n      \"previewWidth\": 150,\n      \"previewHeight\": 100,\n      \"webformatURL\": \"https://pixabay.com/get/g9ce278b23decc23222632af0a263937f4da2033af627b72e2e71251ad417a7c99d1642801bc0fd0a7ed22fae29c385d519c9f514fac3ea5f603b5766378d6509_640.jpg\",\n      \"webformatWidth\": 640,\n      \"webformatHeight\": 425,\n      \"largeImageURL\": \"https://pixabay.com/get/gde7acb582646236091f23386edecc0a7b89e553eb6f7596a0b4ea54107f3ce1971bead3724920b7afebd58b0bff3e26b22878f89bfbcfab365d2a6b09f472a20_1280.jpg\",\n      \"imageWidth\": 4213,\n      \"imageHeight\": 2799,\n      \"imageSize\": 3725569,\n      \"views\": 25897,\n      \"downloads\": 24402,\n      \"favorites\": 57,\n      \"likes\": 94,\n      \"comments\": 57,\n      \"user_id\": 13452116,\n      \"user\": \"Syaibatulhamdi\",\n      \"userImageURL\": \"https://cdn.pixabay.com/user/2020/08/19/09-44-13-930_250x250.png\"\n    },\n    {\n      \"id\": 5505067,\n      \"pageURL\": \"https://pixabay.com/es/photos/estatuilla-de-perro-5505067/\",\n      \"type\": \"photo\",\n      \"tags\": \"estatuilla de perro, estatuilla de gato, figuritas de animales\",\n      \"previewURL\": \"https://cdn.pixabay.com/photo/2020/08/21/02/49/dog-figurine-5505067_150.jpg\",\n      \"previewWidth\": 150,\n      \"previewHeight\": 100,\n      \"webformatURL\": \"https://pixabay.com/get/g8b45abbde00dfe4920bc2953c643e48e7364e23a6b015e93dd0f0fe9da425f066311c48198aec440717f4f19ddd7a4d7e48f2f282add22c048fd106599c569bd_640.jpg\",\n      \"webformatWidth\": 640,\n      \"webformatHeight\": 427,\n      \"largeImageURL\": \"https://pixabay.com/get/g2779c948548369ffde0a165dda57eaebdd4ceb6a9bd1f8729f6e4ed99abe813c287cbf0ebe17e777c5ad2c8aea845386873c9f30cbbd0a29725cd6cace9fa2fb_1280.jpg\",\n      \"imageWidth\": 3456,\n      \"imageHeight\": 2304,\n      \"imageSize\": 1204425,\n      \"views\": 125,\n      \"downloads\": 79,\n      \"favorites\": 1,\n      \"likes\": 1,\n      \"comments\": 0,\n      \"user_id\": 16850792,\n      \"user\": \"naraefar\",\n      \"userImageURL\": \"https://cdn.pixabay.com/user/2020/07/03/12-08-34-141_250x250.jpg\"\n    }\n  ]\n}\n"
     ]
    }
   ],
   "source": [
    "import json\n",
    "API_KEY = '20723506-9ab3a718d5483ff31dbf172fe'\n",
    "# image operations\n",
    "image = Image(API_KEY)\n",
    "\n",
    "# default image search\n",
    "image.search()\n",
    "\n",
    "# custom image search\n",
    "ims = image.search(q='cats dogs',\n",
    "             lang='es',\n",
    "             image_type='photo',\n",
    "             orientation='horizontal',\n",
    "             category='animals',\n",
    "             safesearch='true',\n",
    "             order='latest',\n",
    "             page=2,\n",
    "             per_page=3)\n",
    "\n",
    "str = json.dumps(ims, indent=2)\n",
    "print(str)"
   ]
  },
  {
   "cell_type": "code",
   "execution_count": 6,
   "metadata": {},
   "outputs": [],
   "source": []
  }
 ]
}