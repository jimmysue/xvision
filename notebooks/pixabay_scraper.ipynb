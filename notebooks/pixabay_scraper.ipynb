{
 "metadata": {
  "language_info": {
   "codemirror_mode": {
    "name": "ipython",
    "version": 3
   },
   "file_extension": ".py",
   "mimetype": "text/x-python",
   "name": "python",
   "nbconvert_exporter": "python",
   "pygments_lexer": "ipython3",
   "version": "3.8.5-final"
  },
  "orig_nbformat": 2,
  "kernelspec": {
   "name": "python3",
   "display_name": "Python 3.8.5 64-bit ('py38': conda)",
   "metadata": {
    "interpreter": {
     "hash": "66fceec00b03fbdb5ef2a284dfadb349cc7d61aad9edaf80a7d6a7b66dad8370"
    }
   }
  }
 },
 "nbformat": 4,
 "nbformat_minor": 2,
 "cells": [
  {
   "cell_type": "code",
   "execution_count": null,
   "metadata": {},
   "outputs": [],
   "source": [
    "from pixabay import Image, Video"
   ]
  },
  {
   "cell_type": "code",
   "execution_count": null,
   "metadata": {},
   "outputs": [],
   "source": [
    "import json\n",
    "API_KEY = '20723506-9ab3a718d5483ff31dbf172fe'\n",
    "# image operations\n",
    "image = Image(API_KEY)\n",
    "\n",
    "# default image search\n",
    "image.search()\n",
    "\n",
    "# custom image search\n",
    "ims = image.search(q='cats dogs',\n",
    "             lang='es',\n",
    "             image_type='photo',\n",
    "             orientation='horizontal',\n",
    "             category='animals',\n",
    "             safesearch='true',\n",
    "             order='latest',\n",
    "             page=2,\n",
    "             per_page=3)\n",
    "\n",
    "str = json.dumps(ims, indent=2)\n",
    "print(str)"
   ]
  },
  {
   "cell_type": "code",
   "execution_count": null,
   "metadata": {},
   "outputs": [],
   "source": []
  }
 ]
}